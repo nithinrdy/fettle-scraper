{
 "cells": [
  {
   "cell_type": "code",
   "execution_count": 384,
   "metadata": {},
   "outputs": [],
   "source": [
    "import pandas as pd\n",
    "import bs4\n"
   ]
  },
  {
   "cell_type": "code",
   "execution_count": 385,
   "metadata": {},
   "outputs": [],
   "source": [
    "diseases = pd.read_csv('diseases_with_desc.csv')\n",
    "diseases.dropna(inplace=True)"
   ]
  },
  {
   "cell_type": "code",
   "execution_count": 386,
   "metadata": {},
   "outputs": [],
   "source": [
    "subAttr = {'data-attrid': 'subtitle'}\n",
    "descAttr = {'data-attrid': 'kc:/medicine/disease:description'}\n",
    "secondaryDescAttr = {'data-attrid': 'kc:/medicine/disease:long description'}\n",
    "rarityAttr = {'data-attrid': 'kc:/medicine/disease:location prevalence title'}\n",
    "\n",
    "symptomAttr = {'data-attrid': 'kc:/medicine/disease:detailed symptoms'}"
   ]
  },
  {
   "cell_type": "code",
   "execution_count": 387,
   "metadata": {},
   "outputs": [],
   "source": [
    "diseases_complete = pd.DataFrame()\n",
    "diseases_complete['disease'] = diseases['disease']\n",
    "diseases_complete['cleaned_disease'] = diseases['cleaned_disease']\n",
    "diseases_complete.drop_duplicates('cleaned_disease', inplace=True)"
   ]
  },
  {
   "cell_type": "code",
   "execution_count": null,
   "metadata": {},
   "outputs": [],
   "source": []
  }
 ],
 "metadata": {
  "interpreter": {
   "hash": "4e1d9a8909477db77738c33245c29c7265277ef753467dede8cf3f814cde494e"
  },
  "kernelspec": {
   "display_name": "Python 3.10.4 64-bit",
   "language": "python",
   "name": "python3"
  },
  "language_info": {
   "codemirror_mode": {
    "name": "ipython",
    "version": 3
   },
   "file_extension": ".py",
   "mimetype": "text/x-python",
   "name": "python",
   "nbconvert_exporter": "python",
   "pygments_lexer": "ipython3",
   "version": "3.10.4"
  },
  "orig_nbformat": 4
 },
 "nbformat": 4,
 "nbformat_minor": 2
}
