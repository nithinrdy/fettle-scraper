{
 "cells": [
  {
   "cell_type": "code",
   "execution_count": 159,
   "metadata": {},
   "outputs": [],
   "source": [
    "import pandas as pd\n",
    "import bs4\n",
    "import numpy as np\n"
   ]
  },
  {
   "cell_type": "code",
   "execution_count": 160,
   "metadata": {},
   "outputs": [],
   "source": [
    "diseases = pd.read_csv('diseases_with_desc.csv')\n",
    "diseases.dropna(inplace=True)"
   ]
  },
  {
   "cell_type": "code",
   "execution_count": 161,
   "metadata": {},
   "outputs": [],
   "source": [
    "subAttr = {'data-attrid': 'subtitle'}\n",
    "descAttr = {'data-attrid': 'kc:/medicine/disease:description'}\n",
    "secondaryDescAttr = {'data-attrid': 'kc:/medicine/disease:long description'}\n",
    "rarityAttr = {'data-attrid': 'kc:/medicine/disease:location prevalence title'}\n",
    "\n",
    "symptomAttr = {'data-attrid': 'kc:/medicine/disease:detailed symptoms'}"
   ]
  },
  {
   "cell_type": "code",
   "execution_count": 162,
   "metadata": {},
   "outputs": [],
   "source": [
    "diseases_complete = pd.DataFrame()\n",
    "diseases_complete['disease'] = diseases['disease']\n",
    "diseases_complete['cleaned_disease'] = diseases['cleaned_disease']\n",
    "diseases.drop_duplicates('cleaned_disease', inplace=True)\n",
    "diseases_complete.drop_duplicates('cleaned_disease', inplace=True)"
   ]
  },
  {
   "cell_type": "code",
   "execution_count": 163,
   "metadata": {},
   "outputs": [],
   "source": [
    "def filterSubtitles(descDiv):\n",
    "    soup = bs4.BeautifulSoup(descDiv, 'html.parser')\n",
    "    subtitleElement = soup.find('div', subAttr)\n",
    "    if subtitleElement is not None:\n",
    "        return subtitleElement.text\n",
    "\n",
    "def filterPrimaryDescriptions(descDiv):\n",
    "    soup = bs4.BeautifulSoup(descDiv, 'html.parser')\n",
    "    primaryDescElement = soup.find('div', descAttr)\n",
    "    if primaryDescElement is not None:\n",
    "        return primaryDescElement.text\n",
    "\n",
    "def filterSecondaryDescriptions(descDiv):\n",
    "    soup = bs4.BeautifulSoup(descDiv, 'html.parser')\n",
    "    secondaryDescElement = soup.find('div', secondaryDescAttr)\n",
    "    if secondaryDescElement is not None:\n",
    "        return secondaryDescElement.text\n",
    "\n",
    "def filterRarity(descDiv):\n",
    "    soup = bs4.BeautifulSoup(descDiv, 'html.parser')\n",
    "    rarityElement = soup.find('div', rarityAttr)\n",
    "    if rarityElement is not None:\n",
    "        return rarityElement.text\n",
    "\n",
    "def getSymptomPossibility(symptomDiv):\n",
    "    soup = bs4.BeautifulSoup(symptomDiv, 'html.parser')\n",
    "    symptomPossibility = soup.find('div', symptomAttr)\n",
    "    if symptomPossibility is not None:\n",
    "        return symptomPossibility.text\n",
    "\n",
    "diseases_complete['subtitle'] = diseases['desc'].apply(filterSubtitles)\n",
    "diseases_complete['primary_description'] = diseases['desc'].apply(filterPrimaryDescriptions)\n",
    "diseases_complete['secondary_description'] = diseases['desc'].apply(filterSecondaryDescriptions)\n",
    "diseases_complete['rarity'] = diseases['desc'].apply(filterRarity)\n",
    "diseases_complete['symptom_possibility'] = diseases['sympt'].apply(getSymptomPossibility)\n",
    "diseases_complete.reset_index(inplace=True)\n",
    "diseases.reset_index(inplace=True)\n",
    "diseases_complete.drop('index', axis=1, inplace=True)\n"
   ]
  },
  {
   "cell_type": "code",
   "execution_count": 164,
   "metadata": {},
   "outputs": [],
   "source": [
    "basic_kinds = {'Cough', 'Headache'}\n",
    "vague_kinds = {'Common symptoms', 'Pain circumstances', 'Pain types'}\n",
    "\n",
    "diseases_complete['symptoms'] = np.NaN\n",
    "\n",
    "for sym, cleaned_disease in zip(diseases['sympt'], diseases['cleaned_disease']):\n",
    "    soup = bs4.BeautifulSoup(sym, 'html.parser')\n",
    "    symptomSets = soup.find_all('div', symptomAttr)[1:]\n",
    "    if len(symptomSets) > 0:\n",
    "        symptoms = []\n",
    "        symptomPairs = [symptomSet.text.split(':') for symptomSet in symptomSets]\n",
    "        for pair in symptomPairs:\n",
    "            if pair[0] in basic_kinds:\n",
    "                symptoms.append(pair[0])\n",
    "            elif pair[0] in vague_kinds:\n",
    "                continue\n",
    "            elif pair[0] == 'Pain areas':\n",
    "                raw_symptoms = pair[1].replace(' in the ', ' ')\n",
    "                raw_symptoms = raw_symptoms.replace(' of the ', ' ')\n",
    "                raw_symptoms = raw_symptoms.replace(' or ', ' ')\n",
    "                raw_symptoms = raw_symptoms.replace(', ', ' ')\n",
    "                raw_symptoms = [area + ' pain' for area in raw_symptoms.split(' ')]\n",
    "                raw_symptoms = [area for area in raw_symptoms if area != ' pain']\n",
    "                symptoms += raw_symptoms\n",
    "            else:\n",
    "                raw_symptoms = pair[1].replace(' and ', ', ')\n",
    "                raw_symptoms = raw_symptoms.replace(' or ', ', ')\n",
    "                raw_symptoms = raw_symptoms.replace(' the ', ' ')\n",
    "                raw_symptoms = raw_symptoms.split(', ')\n",
    "                raw_symptoms = [symptom for symptom in raw_symptoms if symptom != '']\n",
    "                symptoms += raw_symptoms\n",
    "        if len(symptoms) > 0:\n",
    "            diseases_complete.loc[diseases_complete['cleaned_disease'] == cleaned_disease, 'symptoms'] = ', '.join(symptoms)"
   ]
  },
  {
   "cell_type": "code",
   "execution_count": 165,
   "metadata": {},
   "outputs": [],
   "source": [
    "def getRawSymptomsList(symptomDiv):\n",
    "    soup = bs4.BeautifulSoup(symptomDiv, 'html.parser')\n",
    "    symptomSets = soup.find_all('div', symptomAttr)[1:]\n",
    "    if len(symptomSets) > 0:\n",
    "        return [symptomSet.text for symptomSet in symptomSets]\n",
    "\n",
    "diseases_complete['raw_symptoms'] = diseases['sympt'].apply(getRawSymptomsList)\n",
    "diseases_complete.to_csv('diseases_complete.csv', index=False)"
   ]
  }
 ],
 "metadata": {
  "interpreter": {
   "hash": "4e1d9a8909477db77738c33245c29c7265277ef753467dede8cf3f814cde494e"
  },
  "kernelspec": {
   "display_name": "Python 3.10.4 64-bit",
   "language": "python",
   "name": "python3"
  },
  "language_info": {
   "codemirror_mode": {
    "name": "ipython",
    "version": 3
   },
   "file_extension": ".py",
   "mimetype": "text/x-python",
   "name": "python",
   "nbconvert_exporter": "python",
   "pygments_lexer": "ipython3",
   "version": "3.10.4"
  },
  "orig_nbformat": 4
 },
 "nbformat": 4,
 "nbformat_minor": 2
}
