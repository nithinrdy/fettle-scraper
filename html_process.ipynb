{
 "cells": [
  {
   "cell_type": "code",
   "execution_count": 136,
   "metadata": {},
   "outputs": [],
   "source": [
    "import pandas as pd\n",
    "import bs4\n"
   ]
  },
  {
   "cell_type": "code",
   "execution_count": 137,
   "metadata": {},
   "outputs": [],
   "source": [
    "diseases = pd.read_csv('diseases_with_desc.csv')\n",
    "diseases.dropna(inplace=True)"
   ]
  },
  {
   "cell_type": "code",
   "execution_count": 138,
   "metadata": {},
   "outputs": [],
   "source": [
    "subAttr = {'data-attrid': 'subtitle'}\n",
    "descAttr = {'data-attrid': 'kc:/medicine/disease:description'}\n",
    "secondaryDescAttr = {'data-attrid': 'kc:/medicine/disease:long description'}\n",
    "rarityAttr = {'data-attrid': 'kc:/medicine/disease:location prevalence title'}\n",
    "\n",
    "symptomAttr = {'data-attrid': 'kc:/medicine/disease:detailed symptoms'}"
   ]
  },
  {
   "cell_type": "code",
   "execution_count": 139,
   "metadata": {},
   "outputs": [],
   "source": [
    "diseases_complete = pd.DataFrame()\n",
    "diseases_complete['disease'] = diseases['disease']\n",
    "diseases_complete['cleaned_disease'] = diseases['cleaned_disease']\n",
    "diseases_complete.drop_duplicates('cleaned_disease', inplace=True)"
   ]
  },
  {
   "cell_type": "code",
   "execution_count": 140,
   "metadata": {},
   "outputs": [],
   "source": [
    "def filterSubtitles(descDiv):\n",
    "    soup = bs4.BeautifulSoup(descDiv, 'html.parser')\n",
    "    subtitleElement = soup.find('div', subAttr)\n",
    "    if subtitleElement is not None:\n",
    "        return subtitleElement.text\n",
    "\n",
    "def filterPrimaryDescriptions(descDiv):\n",
    "    soup = bs4.BeautifulSoup(descDiv, 'html.parser')\n",
    "    primaryDescElement = soup.find('div', descAttr)\n",
    "    if primaryDescElement is not None:\n",
    "        return primaryDescElement.text\n",
    "\n",
    "def filterSecondaryDescriptions(descDiv):\n",
    "    soup = bs4.BeautifulSoup(descDiv, 'html.parser')\n",
    "    secondaryDescElement = soup.find('div', secondaryDescAttr)\n",
    "    if secondaryDescElement is not None:\n",
    "        return secondaryDescElement.text\n",
    "\n",
    "def filterRarity(descDiv):\n",
    "    soup = bs4.BeautifulSoup(descDiv, 'html.parser')\n",
    "    rarityElement = soup.find('div', rarityAttr)\n",
    "    if rarityElement is not None:\n",
    "        return rarityElement.text\n",
    "\n",
    "diseases_complete['subtitle'] = diseases['desc'].apply(filterSubtitles)\n",
    "diseases_complete['primary_description'] = diseases['desc'].apply(filterPrimaryDescriptions)\n",
    "diseases_complete['secondary_description'] = diseases['desc'].apply(filterSecondaryDescriptions)\n",
    "diseases_complete['rarity'] = diseases['desc'].apply(filterRarity)\n",
    "diseases_complete.reset_index(inplace=True)\n",
    "diseases_complete.drop('index', axis=1, inplace=True)\n"
   ]
  }
 ],
 "metadata": {
  "interpreter": {
   "hash": "4e1d9a8909477db77738c33245c29c7265277ef753467dede8cf3f814cde494e"
  },
  "kernelspec": {
   "display_name": "Python 3.10.4 64-bit",
   "language": "python",
   "name": "python3"
  },
  "language_info": {
   "codemirror_mode": {
    "name": "ipython",
    "version": 3
   },
   "file_extension": ".py",
   "mimetype": "text/x-python",
   "name": "python",
   "nbconvert_exporter": "python",
   "pygments_lexer": "ipython3",
   "version": "3.10.4"
  },
  "orig_nbformat": 4
 },
 "nbformat": 4,
 "nbformat_minor": 2
}
