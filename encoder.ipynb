{
 "cells": [
  {
   "cell_type": "code",
   "execution_count": 20,
   "metadata": {},
   "outputs": [],
   "source": [
    "import pandas as pd\n",
    "from sentence_transformers import SentenceTransformer\n",
    "import numpy as np\n",
    "\n",
    "model = SentenceTransformer(\"all-MiniLM-L12-v2\")\n"
   ]
  },
  {
   "cell_type": "code",
   "execution_count": 21,
   "metadata": {},
   "outputs": [],
   "source": [
    "def encodeSymptomVectors(symptoms):\n",
    "    return model.encode(str(symptoms)).tolist()\n",
    "\n",
    "\n",
    "def encodeRarityScore(rarity):\n",
    "    if rarity is not np.NaN:\n",
    "        rarityMap = {\n",
    "            \"Very common\": 0,\n",
    "            \"Common\": 1,\n",
    "            \"Rare\": 2,\n",
    "            \"Very rare\": 3,\n",
    "            \"Extremely rare\": 4,\n",
    "        }\n",
    "        return rarityMap[rarity]\n",
    "\n",
    "\n",
    "encoded_diseases = pd.read_csv(\"diseases_complete.csv\").reset_index()\n",
    "encoded_diseases[\"symptomVectors\"] = encoded_diseases[\"symptoms\"].apply(encodeSymptomVectors)\n",
    "encoded_diseases[\"rarityScore\"] = encoded_diseases[\"rarity\"].apply(encodeRarityScore)\n"
   ]
  },
  {
   "cell_type": "code",
   "execution_count": 22,
   "metadata": {},
   "outputs": [],
   "source": [
    "encoded_diseases.dropna(subset=[\"disease\", \"primary_description\"], inplace=True)"
   ]
  },
  {
   "cell_type": "code",
   "execution_count": 23,
   "metadata": {},
   "outputs": [],
   "source": [
    "encoded_diseases.to_csv(\"diseases__encoded.csv\", index=False, )"
   ]
  }
 ],
 "metadata": {
  "interpreter": {
   "hash": "4e1d9a8909477db77738c33245c29c7265277ef753467dede8cf3f814cde494e"
  },
  "kernelspec": {
   "display_name": "Python 3.10.4 64-bit",
   "language": "python",
   "name": "python3"
  },
  "language_info": {
   "codemirror_mode": {
    "name": "ipython",
    "version": 3
   },
   "file_extension": ".py",
   "mimetype": "text/x-python",
   "name": "python",
   "nbconvert_exporter": "python",
   "pygments_lexer": "ipython3",
   "version": "3.10.4"
  },
  "orig_nbformat": 4
 },
 "nbformat": 4,
 "nbformat_minor": 2
}
